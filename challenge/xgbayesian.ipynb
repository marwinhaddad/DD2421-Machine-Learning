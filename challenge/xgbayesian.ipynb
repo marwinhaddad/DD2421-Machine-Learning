{
 "cells": [
  {
   "cell_type": "code",
   "execution_count": 14,
   "metadata": {},
   "outputs": [],
   "source": [
    "from sklearn.preprocessing import LabelEncoder\n",
    "from sklearn.model_selection import RepeatedStratifiedKFold, cross_val_score\n",
    "from sklearn.metrics import accuracy_score\n",
    "\n",
    "from sklearn.gaussian_process import GaussianProcessRegressor\n",
    "from sklearn.gaussian_process.kernels import Matern\n",
    "\n",
    "import pandas as pd\n",
    "import numpy as np\n",
    "from scipy import stats\n",
    "\n",
    "from xgboost import XGBClassifier"
   ]
  },
  {
   "cell_type": "code",
   "execution_count": 15,
   "metadata": {},
   "outputs": [],
   "source": [
    "y_encoder = LabelEncoder()\n",
    "x7_encoder = LabelEncoder()"
   ]
  },
  {
   "cell_type": "code",
   "execution_count": 16,
   "metadata": {},
   "outputs": [],
   "source": [
    "training_data = pd.read_csv('TrainOnMe_orig.csv')\n",
    "training_data = training_data.drop(columns=['Unnamed: 0', 'x12'])\n",
    "training_data = training_data.dropna()\n",
    "\n",
    "training_data['y'] = y_encoder.fit_transform(training_data['y'])\n",
    "training_data['x7'] = x7_encoder.fit_transform(training_data['x7'])\n",
    "\n",
    "X = training_data.drop(columns=['y'])\n",
    "y = training_data['y']"
   ]
  },
  {
   "cell_type": "code",
   "execution_count": 21,
   "metadata": {},
   "outputs": [],
   "source": [
    "# placeholder for the best model\n",
    "xgb = None\n",
    "\n",
    "# choice of scoring for the cross validation\n",
    "scoring = 'neg_log_loss'\n",
    "\n",
    "# constant model parameters\n",
    "eval_metric='mlogloss'  # merror\n",
    "objective='multi:softmax'\n",
    "\n",
    "# default model or not\n",
    "default = True\n",
    "\n",
    "# gaussian process model\n",
    "kernel = 1.0 * Matern(length_scale=1.0, nu=2.5)\n",
    "gaussian_process = GaussianProcessRegressor(kernel=kernel)"
   ]
  },
  {
   "cell_type": "code",
   "execution_count": 22,
   "metadata": {},
   "outputs": [],
   "source": [
    "def get_score(model):\n",
    "    score = cross_val_score(model, X, y, cv=10, scoring=scoring, n_jobs=-1)\n",
    "    return score.mean()\n",
    "\n",
    "def get_model(n_estimators: int, learning_rate: float, max_depth: int):\n",
    "    global xgb\n",
    "    params = {\n",
    "        'n_estimators': int(n_estimators),\n",
    "        'learning_rate': learning_rate,\n",
    "        'max_depth': int(max_depth)\n",
    "    }\n",
    "    \n",
    "    if default:\n",
    "        model = XGBClassifier(**params)\n",
    "    else:\n",
    "        model = XGBClassifier(**params,\n",
    "                        eval_metric=eval_metric,\n",
    "                        objective=objective,\n",
    "                        num_class=3)\n",
    "\n",
    "    return model\n",
    "\n",
    "def objective_function(params):\n",
    "    model = get_model(**params)\n",
    "    score = get_score(model)\n",
    "    return -score\n",
    "\n",
    "def expected_improvement(X, X_sample, y_sample, gausian_process, xi=0.01):\n",
    "    mu, sigma = gausian_process.predict(X, return_std=True)\n",
    "    mu_sample = gausian_process.predict(X_sample)\n",
    "\n",
    "    sigma = sigma.reshape(-1, 1)\n",
    "    mu_sample_opt = np.max(mu_sample)\n",
    "\n",
    "    with np.errstate(divide='ignore'):\n",
    "        imp = mu - mu_sample_opt - xi\n",
    "        Z = imp / sigma\n",
    "        ei = imp * stats.norm.cdf(Z) + sigma * stats.norm.pdf(Z)\n",
    "        ei[sigma == 0.0] = 0.0\n",
    "\n",
    "    return ei"
   ]
  },
  {
   "cell_type": "code",
   "execution_count": null,
   "metadata": {},
   "outputs": [],
   "source": [
    "pbounds = {\n",
    "    'n_estimators': (100, 1000),\n",
    "    'learning_rate': (0.01, 0.1),\n",
    "    'max_depth': (5, 20)\n",
    "}"
   ]
  }
 ],
 "metadata": {
  "kernelspec": {
   "display_name": "base",
   "language": "python",
   "name": "python3"
  },
  "language_info": {
   "codemirror_mode": {
    "name": "ipython",
    "version": 3
   },
   "file_extension": ".py",
   "mimetype": "text/x-python",
   "name": "python",
   "nbconvert_exporter": "python",
   "pygments_lexer": "ipython3",
   "version": "3.11.5"
  }
 },
 "nbformat": 4,
 "nbformat_minor": 2
}
