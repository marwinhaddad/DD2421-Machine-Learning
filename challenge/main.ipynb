{
 "cells": [
  {
   "cell_type": "code",
   "execution_count": 1,
   "metadata": {},
   "outputs": [],
   "source": [
    "from sklearn.preprocessing import LabelEncoder\n",
    "from sklearn.decomposition import PCA\n",
    "from sklearn.compose import ColumnTransformer\n",
    "from sklearn.pipeline import Pipeline\n",
    "from sklearn.model_selection import GridSearchCV, RandomizedSearchCV, RepeatedStratifiedKFold, train_test_split\n",
    "from sklearn.metrics import accuracy_score\n",
    "\n",
    "import pandas as pd\n",
    "\n",
    "from xgboost import XGBClassifier"
   ]
  },
  {
   "cell_type": "code",
   "execution_count": 12,
   "metadata": {},
   "outputs": [],
   "source": [
    "y_encoder = LabelEncoder()\n",
    "x7_encoder = LabelEncoder()\n",
    "\n",
    "def get_data(data_str: str):\n",
    "    if data_str == 'training':\n",
    "        training_data = pd.read_csv('TrainOnMe_orig.csv')\n",
    "        training_data = training_data.drop(columns=['Unnamed: 0', 'x12'])\n",
    "        training_data = training_data.dropna()\n",
    "\n",
    "        training_data['y'] = y_encoder.fit_transform(training_data['y'])\n",
    "        training_data['x7'] = x7_encoder.fit_transform(training_data['x7'])\n",
    "\n",
    "        X = training_data.drop(columns=['y'])\n",
    "        y = training_data['y']\n",
    "        return X, y\n",
    "    \n",
    "    elif data_str == 'evaluation':\n",
    "        evaluation_data = pd.read_csv('EvaluateOnMe.csv')\n",
    "        evaluation_data = evaluation_data.drop(columns=['Unnamed: 0', 'x12'])\n",
    "        evaluation_data['x7'] = x7_encoder.transform(evaluation_data['x7'])\n",
    "\n",
    "        return evaluation_data\n",
    "    \n",
    "X, y = get_data('training')\n",
    "X_eval = get_data('evaluation')"
   ]
  },
  {
   "cell_type": "code",
   "execution_count": 7,
   "metadata": {},
   "outputs": [],
   "source": [
    "def run_search(X, y, pipeline, param_grid, n_splits=5, scoring='accuracy', n_iter=None, n_repeats=10, verbose=1):\n",
    "\n",
    "    cv = RepeatedStratifiedKFold(n_splits=n_splits, n_repeats=n_repeats)\n",
    "\n",
    "    if n_iter:\n",
    "        search = RandomizedSearchCV(pipeline, param_grid, n_iter=n_iter, scoring=scoring, cv=cv, verbose=verbose, n_jobs=-1, random_state=42)\n",
    "    else:\n",
    "        search = GridSearchCV(pipeline, param_grid, scoring=scoring, cv=cv, verbose=verbose, n_jobs=-1)\n",
    "\n",
    "    search.fit(X, y)\n",
    "\n",
    "    return search"
   ]
  },
  {
   "cell_type": "code",
   "execution_count": 4,
   "metadata": {},
   "outputs": [],
   "source": [
    "def best_model(X, y, pipeline, param_grid, X_test=None, y_test=None, n_splits=5, scorings=['accuracy'], n_iter=None, n_repeats=10, verbose=1):\n",
    "    best_models = {}\n",
    "    for scoring in scorings:\n",
    "        print(f\"Running search for {scoring}...\")\n",
    "        search = run_search(X=X, y=y, pipeline=pipeline, param_grid=param_grid, n_splits=n_splits, scoring=scoring, n_iter=n_iter, n_repeats=n_repeats, verbose=verbose)\n",
    "        \n",
    "        print(\"Best model parameters:\")\n",
    "        print(search.best_params_)\n",
    "        print(f\"Cross-validation score ({scoring}): {search.best_score_:.4f}\")\n",
    "\n",
    "        if X_test is not None and y_test is not None:\n",
    "            y_pred = search.best_estimator_.predict(X_test)\n",
    "            score = accuracy_score(y_test, y_pred)\n",
    "            print(f\"Test score ({scoring}): {score:.4f}\\n\")\n",
    "        \n",
    "        best_models[scoring] = (search.best_estimator_, search.best_params_, search.best_score_)\n",
    "\n",
    "    return best_models"
   ]
  },
  {
   "cell_type": "code",
   "execution_count": 5,
   "metadata": {},
   "outputs": [],
   "source": [
    "preprocessor = ColumnTransformer(\n",
    "    transformers=[\n",
    "        ('pca', PCA(), ['x1', 'x2', 'x3', 'x4', 'x5', 'x6', 'x8', 'x9', 'x10', 'x11', 'x13'])\n",
    "        ])\n",
    "\n",
    "pipeline = Pipeline([\n",
    "    ('preprocessor', preprocessor),\n",
    "    ('xgb', XGBClassifier())\n",
    "])\n",
    "\n",
    "param_grid = {\n",
    "    'xgb__n_estimators': [200, 250, 300, 350],\n",
    "    'xgb__learning_rate': [0.085, 0.08, 0.075],\n",
    "    'xgb__max_depth': [5, 6, 7],\n",
    "    'xgb__subsample': [0.65, 0.675, 0.7],\n",
    "    'xgb__eval_metric': ['merror', 'mlogloss'],\n",
    "    'xgb__sampling_method': ['uniform'],\n",
    "    'xgb__grow_policy': ['lossguide'],\n",
    "    'xgb__objective': ['multi:softmax'],\n",
    "    'xgb__num_class': [3],\n",
    "    'preprocessor__pca__n_components': ['mle']\n",
    "}"
   ]
  },
  {
   "cell_type": "code",
   "execution_count": 6,
   "metadata": {},
   "outputs": [
    {
     "name": "stdout",
     "output_type": "stream",
     "text": [
      "Running search for accuracy...\n",
      "Fitting 50 folds for each of 216 candidates, totalling 10800 fits\n",
      "Best model parameters:\n",
      "{'preprocessor__pca__n_components': 'mle', 'xgb__eval_metric': 'merror', 'xgb__grow_policy': 'lossguide', 'xgb__learning_rate': 0.08, 'xgb__max_depth': 5, 'xgb__n_estimators': 350, 'xgb__num_class': 3, 'xgb__objective': 'multi:softmax', 'xgb__sampling_method': 'uniform', 'xgb__subsample': 0.65}\n",
      "Cross-validation score (accuracy): 0.8775\n",
      "Test score (accuracy): 0.8800\n",
      "\n",
      "Running search for neg_log_loss...\n",
      "Fitting 50 folds for each of 216 candidates, totalling 10800 fits\n",
      "Best model parameters:\n",
      "{'preprocessor__pca__n_components': 'mle', 'xgb__eval_metric': 'merror', 'xgb__grow_policy': 'lossguide', 'xgb__learning_rate': 0.075, 'xgb__max_depth': 5, 'xgb__n_estimators': 200, 'xgb__num_class': 3, 'xgb__objective': 'multi:softmax', 'xgb__sampling_method': 'uniform', 'xgb__subsample': 0.65}\n",
      "Cross-validation score (neg_log_loss): -0.3104\n",
      "Test score (neg_log_loss): 0.8800\n",
      "\n"
     ]
    }
   ],
   "source": [
    "X_train, X_test, y_train, y_test = train_test_split(X, y, test_size=0.2, random_state=42)\n",
    "\n",
    "best_xgb_split = best_model(X_train, y_train, pipeline, param_grid, X_test=X_test, y_test=y_test, scorings=['accuracy', 'neg_log_loss'], n_iter=None, verbose=1)"
   ]
  },
  {
   "cell_type": "code",
   "execution_count": 8,
   "metadata": {},
   "outputs": [
    {
     "name": "stdout",
     "output_type": "stream",
     "text": [
      "Running search for accuracy...\n",
      "Fitting 50 folds for each of 10 candidates, totalling 500 fits\n",
      "Best model parameters:\n",
      "{'xgb__subsample': 0.675, 'xgb__sampling_method': 'uniform', 'xgb__objective': 'multi:softmax', 'xgb__num_class': 3, 'xgb__n_estimators': 200, 'xgb__max_depth': 5, 'xgb__learning_rate': 0.075, 'xgb__grow_policy': 'lossguide', 'xgb__eval_metric': 'merror', 'preprocessor__pca__n_components': 'mle'}\n",
      "Cross-validation score (accuracy): 0.8831\n",
      "Test score (accuracy): 0.8500\n",
      "\n",
      "Running search for neg_log_loss...\n",
      "Fitting 50 folds for each of 10 candidates, totalling 500 fits\n",
      "Best model parameters:\n",
      "{'xgb__subsample': 0.675, 'xgb__sampling_method': 'uniform', 'xgb__objective': 'multi:softmax', 'xgb__num_class': 3, 'xgb__n_estimators': 200, 'xgb__max_depth': 5, 'xgb__learning_rate': 0.075, 'xgb__grow_policy': 'lossguide', 'xgb__eval_metric': 'merror', 'preprocessor__pca__n_components': 'mle'}\n",
      "Cross-validation score (neg_log_loss): -0.3001\n",
      "Test score (neg_log_loss): 0.8500\n",
      "\n"
     ]
    }
   ],
   "source": [
    "X_train, X_test, y_train, y_test = train_test_split(X, y, test_size=0.2)\n",
    "\n",
    "best_xgb_split_random = best_model(X_train, y_train, pipeline, param_grid, X_test=X_test, y_test=y_test, scorings=['accuracy', 'neg_log_loss'], n_iter=10, verbose=1)"
   ]
  },
  {
   "cell_type": "code",
   "execution_count": 10,
   "metadata": {},
   "outputs": [
    {
     "name": "stdout",
     "output_type": "stream",
     "text": [
      "Running search for accuracy...\n",
      "Fitting 50 folds for each of 216 candidates, totalling 10800 fits\n",
      "Best model parameters:\n",
      "{'preprocessor__pca__n_components': 'mle', 'xgb__eval_metric': 'merror', 'xgb__grow_policy': 'lossguide', 'xgb__learning_rate': 0.075, 'xgb__max_depth': 5, 'xgb__n_estimators': 250, 'xgb__num_class': 3, 'xgb__objective': 'multi:softmax', 'xgb__sampling_method': 'uniform', 'xgb__subsample': 0.65}\n",
      "Cross-validation score (accuracy): 0.8840\n"
     ]
    }
   ],
   "source": [
    "best_xgb = best_model(X, y, pipeline, param_grid)"
   ]
  },
  {
   "cell_type": "code",
   "execution_count": 20,
   "metadata": {},
   "outputs": [
    {
     "data": {
      "text/html": [
       "<style>#sk-container-id-1 {color: black;}#sk-container-id-1 pre{padding: 0;}#sk-container-id-1 div.sk-toggleable {background-color: white;}#sk-container-id-1 label.sk-toggleable__label {cursor: pointer;display: block;width: 100%;margin-bottom: 0;padding: 0.3em;box-sizing: border-box;text-align: center;}#sk-container-id-1 label.sk-toggleable__label-arrow:before {content: \"▸\";float: left;margin-right: 0.25em;color: #696969;}#sk-container-id-1 label.sk-toggleable__label-arrow:hover:before {color: black;}#sk-container-id-1 div.sk-estimator:hover label.sk-toggleable__label-arrow:before {color: black;}#sk-container-id-1 div.sk-toggleable__content {max-height: 0;max-width: 0;overflow: hidden;text-align: left;background-color: #f0f8ff;}#sk-container-id-1 div.sk-toggleable__content pre {margin: 0.2em;color: black;border-radius: 0.25em;background-color: #f0f8ff;}#sk-container-id-1 input.sk-toggleable__control:checked~div.sk-toggleable__content {max-height: 200px;max-width: 100%;overflow: auto;}#sk-container-id-1 input.sk-toggleable__control:checked~label.sk-toggleable__label-arrow:before {content: \"▾\";}#sk-container-id-1 div.sk-estimator input.sk-toggleable__control:checked~label.sk-toggleable__label {background-color: #d4ebff;}#sk-container-id-1 div.sk-label input.sk-toggleable__control:checked~label.sk-toggleable__label {background-color: #d4ebff;}#sk-container-id-1 input.sk-hidden--visually {border: 0;clip: rect(1px 1px 1px 1px);clip: rect(1px, 1px, 1px, 1px);height: 1px;margin: -1px;overflow: hidden;padding: 0;position: absolute;width: 1px;}#sk-container-id-1 div.sk-estimator {font-family: monospace;background-color: #f0f8ff;border: 1px dotted black;border-radius: 0.25em;box-sizing: border-box;margin-bottom: 0.5em;}#sk-container-id-1 div.sk-estimator:hover {background-color: #d4ebff;}#sk-container-id-1 div.sk-parallel-item::after {content: \"\";width: 100%;border-bottom: 1px solid gray;flex-grow: 1;}#sk-container-id-1 div.sk-label:hover label.sk-toggleable__label {background-color: #d4ebff;}#sk-container-id-1 div.sk-serial::before {content: \"\";position: absolute;border-left: 1px solid gray;box-sizing: border-box;top: 0;bottom: 0;left: 50%;z-index: 0;}#sk-container-id-1 div.sk-serial {display: flex;flex-direction: column;align-items: center;background-color: white;padding-right: 0.2em;padding-left: 0.2em;position: relative;}#sk-container-id-1 div.sk-item {position: relative;z-index: 1;}#sk-container-id-1 div.sk-parallel {display: flex;align-items: stretch;justify-content: center;background-color: white;position: relative;}#sk-container-id-1 div.sk-item::before, #sk-container-id-1 div.sk-parallel-item::before {content: \"\";position: absolute;border-left: 1px solid gray;box-sizing: border-box;top: 0;bottom: 0;left: 50%;z-index: -1;}#sk-container-id-1 div.sk-parallel-item {display: flex;flex-direction: column;z-index: 1;position: relative;background-color: white;}#sk-container-id-1 div.sk-parallel-item:first-child::after {align-self: flex-end;width: 50%;}#sk-container-id-1 div.sk-parallel-item:last-child::after {align-self: flex-start;width: 50%;}#sk-container-id-1 div.sk-parallel-item:only-child::after {width: 0;}#sk-container-id-1 div.sk-dashed-wrapped {border: 1px dashed gray;margin: 0 0.4em 0.5em 0.4em;box-sizing: border-box;padding-bottom: 0.4em;background-color: white;}#sk-container-id-1 div.sk-label label {font-family: monospace;font-weight: bold;display: inline-block;line-height: 1.2em;}#sk-container-id-1 div.sk-label-container {text-align: center;}#sk-container-id-1 div.sk-container {/* jupyter's `normalize.less` sets `[hidden] { display: none; }` but bootstrap.min.css set `[hidden] { display: none !important; }` so we also need the `!important` here to be able to override the default hidden behavior on the sphinx rendered scikit-learn.org. See: https://github.com/scikit-learn/scikit-learn/issues/21755 */display: inline-block !important;position: relative;}#sk-container-id-1 div.sk-text-repr-fallback {display: none;}</style><div id=\"sk-container-id-1\" class=\"sk-top-container\"><div class=\"sk-text-repr-fallback\"><pre>Pipeline(steps=[(&#x27;preprocessor&#x27;,\n",
       "                 ColumnTransformer(transformers=[(&#x27;pca&#x27;,\n",
       "                                                  PCA(n_components=&#x27;mle&#x27;),\n",
       "                                                  [&#x27;x1&#x27;, &#x27;x2&#x27;, &#x27;x3&#x27;, &#x27;x4&#x27;, &#x27;x5&#x27;,\n",
       "                                                   &#x27;x6&#x27;, &#x27;x8&#x27;, &#x27;x9&#x27;, &#x27;x10&#x27;,\n",
       "                                                   &#x27;x11&#x27;, &#x27;x13&#x27;])])),\n",
       "                (&#x27;xgb&#x27;,\n",
       "                 XGBClassifier(base_score=None, booster=None, callbacks=None,\n",
       "                               colsample_bylevel=None, colsample_bynode=None,\n",
       "                               colsample_bytree=None, device=None,\n",
       "                               early_stopping_rounds=None,\n",
       "                               enable_categorical=F...\n",
       "                               grow_policy=&#x27;lossguide&#x27;, importance_type=None,\n",
       "                               interaction_constraints=None,\n",
       "                               learning_rate=0.075, max_bin=None,\n",
       "                               max_cat_threshold=None, max_cat_to_onehot=None,\n",
       "                               max_delta_step=None, max_depth=5,\n",
       "                               max_leaves=None, min_child_weight=None,\n",
       "                               missing=nan, monotone_constraints=None,\n",
       "                               multi_strategy=None, n_estimators=250,\n",
       "                               n_jobs=None, num_class=3, num_parallel_tree=None, ...))])</pre><b>In a Jupyter environment, please rerun this cell to show the HTML representation or trust the notebook. <br />On GitHub, the HTML representation is unable to render, please try loading this page with nbviewer.org.</b></div><div class=\"sk-container\" hidden><div class=\"sk-item sk-dashed-wrapped\"><div class=\"sk-label-container\"><div class=\"sk-label sk-toggleable\"><input class=\"sk-toggleable__control sk-hidden--visually\" id=\"sk-estimator-id-1\" type=\"checkbox\" ><label for=\"sk-estimator-id-1\" class=\"sk-toggleable__label sk-toggleable__label-arrow\">Pipeline</label><div class=\"sk-toggleable__content\"><pre>Pipeline(steps=[(&#x27;preprocessor&#x27;,\n",
       "                 ColumnTransformer(transformers=[(&#x27;pca&#x27;,\n",
       "                                                  PCA(n_components=&#x27;mle&#x27;),\n",
       "                                                  [&#x27;x1&#x27;, &#x27;x2&#x27;, &#x27;x3&#x27;, &#x27;x4&#x27;, &#x27;x5&#x27;,\n",
       "                                                   &#x27;x6&#x27;, &#x27;x8&#x27;, &#x27;x9&#x27;, &#x27;x10&#x27;,\n",
       "                                                   &#x27;x11&#x27;, &#x27;x13&#x27;])])),\n",
       "                (&#x27;xgb&#x27;,\n",
       "                 XGBClassifier(base_score=None, booster=None, callbacks=None,\n",
       "                               colsample_bylevel=None, colsample_bynode=None,\n",
       "                               colsample_bytree=None, device=None,\n",
       "                               early_stopping_rounds=None,\n",
       "                               enable_categorical=F...\n",
       "                               grow_policy=&#x27;lossguide&#x27;, importance_type=None,\n",
       "                               interaction_constraints=None,\n",
       "                               learning_rate=0.075, max_bin=None,\n",
       "                               max_cat_threshold=None, max_cat_to_onehot=None,\n",
       "                               max_delta_step=None, max_depth=5,\n",
       "                               max_leaves=None, min_child_weight=None,\n",
       "                               missing=nan, monotone_constraints=None,\n",
       "                               multi_strategy=None, n_estimators=250,\n",
       "                               n_jobs=None, num_class=3, num_parallel_tree=None, ...))])</pre></div></div></div><div class=\"sk-serial\"><div class=\"sk-item sk-dashed-wrapped\"><div class=\"sk-label-container\"><div class=\"sk-label sk-toggleable\"><input class=\"sk-toggleable__control sk-hidden--visually\" id=\"sk-estimator-id-2\" type=\"checkbox\" ><label for=\"sk-estimator-id-2\" class=\"sk-toggleable__label sk-toggleable__label-arrow\">preprocessor: ColumnTransformer</label><div class=\"sk-toggleable__content\"><pre>ColumnTransformer(transformers=[(&#x27;pca&#x27;, PCA(n_components=&#x27;mle&#x27;),\n",
       "                                 [&#x27;x1&#x27;, &#x27;x2&#x27;, &#x27;x3&#x27;, &#x27;x4&#x27;, &#x27;x5&#x27;, &#x27;x6&#x27;, &#x27;x8&#x27;,\n",
       "                                  &#x27;x9&#x27;, &#x27;x10&#x27;, &#x27;x11&#x27;, &#x27;x13&#x27;])])</pre></div></div></div><div class=\"sk-parallel\"><div class=\"sk-parallel-item\"><div class=\"sk-item\"><div class=\"sk-label-container\"><div class=\"sk-label sk-toggleable\"><input class=\"sk-toggleable__control sk-hidden--visually\" id=\"sk-estimator-id-3\" type=\"checkbox\" ><label for=\"sk-estimator-id-3\" class=\"sk-toggleable__label sk-toggleable__label-arrow\">pca</label><div class=\"sk-toggleable__content\"><pre>[&#x27;x1&#x27;, &#x27;x2&#x27;, &#x27;x3&#x27;, &#x27;x4&#x27;, &#x27;x5&#x27;, &#x27;x6&#x27;, &#x27;x8&#x27;, &#x27;x9&#x27;, &#x27;x10&#x27;, &#x27;x11&#x27;, &#x27;x13&#x27;]</pre></div></div></div><div class=\"sk-serial\"><div class=\"sk-item\"><div class=\"sk-estimator sk-toggleable\"><input class=\"sk-toggleable__control sk-hidden--visually\" id=\"sk-estimator-id-4\" type=\"checkbox\" ><label for=\"sk-estimator-id-4\" class=\"sk-toggleable__label sk-toggleable__label-arrow\">PCA</label><div class=\"sk-toggleable__content\"><pre>PCA(n_components=&#x27;mle&#x27;)</pre></div></div></div></div></div></div></div></div><div class=\"sk-item\"><div class=\"sk-estimator sk-toggleable\"><input class=\"sk-toggleable__control sk-hidden--visually\" id=\"sk-estimator-id-5\" type=\"checkbox\" ><label for=\"sk-estimator-id-5\" class=\"sk-toggleable__label sk-toggleable__label-arrow\">XGBClassifier</label><div class=\"sk-toggleable__content\"><pre>XGBClassifier(base_score=None, booster=None, callbacks=None,\n",
       "              colsample_bylevel=None, colsample_bynode=None,\n",
       "              colsample_bytree=None, device=None, early_stopping_rounds=None,\n",
       "              enable_categorical=False, eval_metric=&#x27;merror&#x27;,\n",
       "              feature_types=None, gamma=None, grow_policy=&#x27;lossguide&#x27;,\n",
       "              importance_type=None, interaction_constraints=None,\n",
       "              learning_rate=0.075, max_bin=None, max_cat_threshold=None,\n",
       "              max_cat_to_onehot=None, max_delta_step=None, max_depth=5,\n",
       "              max_leaves=None, min_child_weight=None, missing=nan,\n",
       "              monotone_constraints=None, multi_strategy=None, n_estimators=250,\n",
       "              n_jobs=None, num_class=3, num_parallel_tree=None, ...)</pre></div></div></div></div></div></div></div>"
      ],
      "text/plain": [
       "Pipeline(steps=[('preprocessor',\n",
       "                 ColumnTransformer(transformers=[('pca',\n",
       "                                                  PCA(n_components='mle'),\n",
       "                                                  ['x1', 'x2', 'x3', 'x4', 'x5',\n",
       "                                                   'x6', 'x8', 'x9', 'x10',\n",
       "                                                   'x11', 'x13'])])),\n",
       "                ('xgb',\n",
       "                 XGBClassifier(base_score=None, booster=None, callbacks=None,\n",
       "                               colsample_bylevel=None, colsample_bynode=None,\n",
       "                               colsample_bytree=None, device=None,\n",
       "                               early_stopping_rounds=None,\n",
       "                               enable_categorical=F...\n",
       "                               grow_policy='lossguide', importance_type=None,\n",
       "                               interaction_constraints=None,\n",
       "                               learning_rate=0.075, max_bin=None,\n",
       "                               max_cat_threshold=None, max_cat_to_onehot=None,\n",
       "                               max_delta_step=None, max_depth=5,\n",
       "                               max_leaves=None, min_child_weight=None,\n",
       "                               missing=nan, monotone_constraints=None,\n",
       "                               multi_strategy=None, n_estimators=250,\n",
       "                               n_jobs=None, num_class=3, num_parallel_tree=None, ...))])"
      ]
     },
     "execution_count": 20,
     "metadata": {},
     "output_type": "execute_result"
    }
   ],
   "source": [
    "best_xgb['accuracy'][0]"
   ]
  },
  {
   "cell_type": "code",
   "execution_count": 13,
   "metadata": {},
   "outputs": [],
   "source": [
    "# retrieve the best model and make predictions on the evaluation data\n",
    "xgb_model = best_xgb['accuracy'][0]\n",
    "\n",
    "y_pred = xgb_model.predict(X_eval)\n",
    "y_pred = y_encoder.inverse_transform(y_pred)"
   ]
  },
  {
   "cell_type": "code",
   "execution_count": 16,
   "metadata": {},
   "outputs": [],
   "source": [
    "# write preditions to file\n",
    "with open('y_pred.txt', 'w') as f:\n",
    "    for i, item in enumerate(y_pred):\n",
    "        f.write(\"%s\\n\" % item) if i < len(y_pred) - 1 else f.write(\"%s\" % item)"
   ]
  }
 ],
 "metadata": {
  "kernelspec": {
   "display_name": "base",
   "language": "python",
   "name": "python3"
  },
  "language_info": {
   "codemirror_mode": {
    "name": "ipython",
    "version": 3
   },
   "file_extension": ".py",
   "mimetype": "text/x-python",
   "name": "python",
   "nbconvert_exporter": "python",
   "pygments_lexer": "ipython3",
   "version": "3.11.5"
  }
 },
 "nbformat": 4,
 "nbformat_minor": 2
}
